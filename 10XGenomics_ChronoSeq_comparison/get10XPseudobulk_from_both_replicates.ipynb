{
 "cells": [
  {
   "cell_type": "code",
   "execution_count": 1,
   "id": "7cc11cdb-9b8c-44a7-a58a-d3628ad29a30",
   "metadata": {
    "tags": []
   },
   "outputs": [],
   "source": [
    "import scipy.io\n",
    "import numpy as np\n",
    "import pandas as pd\n",
    "import gzip\n",
    "\n",
    "def get_pseudobulk_from_mtx_gz(mtx_gz_path, features_tsv_gz_path):\n",
    "    \"\"\"\n",
    "    Compute pseudobulk counts from a single mtx.gz file.\n",
    "    \"\"\"\n",
    "    # Load sparse matrix and sum across cells\n",
    "    with gzip.open(mtx_gz_path, 'rt') as f:\n",
    "        mtx = scipy.io.mmread(f)\n",
    "    pseudobulk_counts = np.array(mtx.sum(axis=1)).flatten()\n",
    "    \n",
    "    # Load gene names (second column of features.tsv.gz)\n",
    "    features = pd.read_csv(features_tsv_gz_path, sep='\\t', header=None, compression='gzip')\n",
    "    gene_names = features[1].values\n",
    "    \n",
    "    # Create DataFrame\n",
    "    return pd.DataFrame({\n",
    "        'gene_name': gene_names[:len(pseudobulk_counts)],\n",
    "        'pseudobulk_count': pseudobulk_counts\n",
    "    })\n",
    "\n",
    "def combine_pseudobulk_shared_genes(df_rep1, df_rep2):\n",
    "    \"\"\"\n",
    "    Combine pseudobulk for shared genes only, summing counts.\n",
    "    \"\"\"\n",
    "    # Inner join to keep only common genes\n",
    "    combined_df = pd.merge(df_rep1, df_rep2, on='gene_name', how='inner', suffixes=('_rep1', '_rep2'))\n",
    "    \n",
    "    # Sum counts\n",
    "    combined_df['pseudobulk_count'] = combined_df['pseudobulk_count_rep1'] + combined_df['pseudobulk_count_rep2']\n",
    "    \n",
    "    # Select relevant columns\n",
    "    return combined_df[['gene_name', 'pseudobulk_count']]\n",
    "\n",
    "def combined_pseudobulk_from_mtx(mtx1_path, feat1_path, mtx2_path, feat2_path):\n",
    "    \"\"\"\n",
    "    Main function: Compute and combine pseudobulk from two replicate file pairs.\n",
    "    \"\"\"\n",
    "    df_rep1 = get_pseudobulk_from_mtx_gz(mtx1_path, feat1_path)\n",
    "    df_rep2 = get_pseudobulk_from_mtx_gz(mtx2_path, feat2_path)\n",
    "    return combine_pseudobulk_shared_genes(df_rep1, df_rep2)\n",
    "#replicate 1 link: https://www.ncbi.nlm.nih.gov/geo/query/acc.cgi?acc=GSM5687481\n",
    "#replicate 2 link: https://www.ncbi.nlm.nih.gov/geo/query/acc.cgi?acc=GSM5687482\n",
    "# Example usage (replace with your actual file paths):\n",
    "combined_df = combined_pseudobulk_from_mtx(\n",
    "    'GSM5687481_k562_rep1_matrix.mtx.gz', \n",
    "    'GSM5687481_k562_rep1_features.tsv.gz', \n",
    "    'GSM5687482_k562_rep2_matrix.mtx.gz', \n",
    "    'GSM5687482_k562_rep2_features.tsv.gz'\n",
    ")"
   ]
  },
  {
   "cell_type": "code",
   "execution_count": 2,
   "id": "2cbe639d-b2c4-450d-a8b7-2628d7ba17a2",
   "metadata": {},
   "outputs": [
    {
     "name": "stdout",
     "output_type": "stream",
     "text": [
      "     gene_name  pseudobulk_count\n",
      "0  MIR1302-2HG                 0\n",
      "1      FAM138A                 0\n",
      "2        OR4F5                16\n",
      "3   AL627309.1               311\n",
      "4   AL627309.3                40\n"
     ]
    }
   ],
   "source": [
    "print(combined_df.head())  # Preview\n",
    "combined_df.to_csv('10x_combined_pseudobulk_both_replicates.txt', index=False,header=False, sep='\\t')  # Save to file"
   ]
  }
 ],
 "metadata": {
  "kernelspec": {
   "display_name": "Python 3",
   "language": "python",
   "name": "python3"
  },
  "language_info": {
   "codemirror_mode": {
    "name": "ipython",
    "version": 3
   },
   "file_extension": ".py",
   "mimetype": "text/x-python",
   "name": "python",
   "nbconvert_exporter": "python",
   "pygments_lexer": "ipython3",
   "version": "3.8.5"
  }
 },
 "nbformat": 4,
 "nbformat_minor": 5
}
