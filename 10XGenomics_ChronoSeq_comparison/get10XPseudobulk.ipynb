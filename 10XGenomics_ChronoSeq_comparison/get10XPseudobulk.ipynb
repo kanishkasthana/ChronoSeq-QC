{
 "cells": [
  {
   "cell_type": "code",
   "execution_count": 1,
   "id": "d272fd82-561c-4796-9c6e-8232b3426b2e",
   "metadata": {},
   "outputs": [
    {
     "name": "stdout",
     "output_type": "stream",
     "text": [
      "           gene_id    gene_name  pseudobulk_count  gene_index\n",
      "0  ENSG00000243485  MIR1302-2HG                 0           1\n",
      "1  ENSG00000237613      FAM138A                 0           2\n",
      "2  ENSG00000186092        OR4F5                10           3\n",
      "3  ENSG00000238009   AL627309.1               155           4\n",
      "4  ENSG00000239945   AL627309.3                24           5\n"
     ]
    }
   ],
   "source": [
    "import scipy.io\n",
    "import numpy as np\n",
    "import pandas as pd\n",
    "import gzip\n",
    "import os\n",
    "\n",
    "def get_pseudobulk_from_mtx_gz(mtx_gz_path, features_tsv_gz_path=None):\n",
    "    \"\"\"\n",
    "    Compute pseudobulk counts from a Cell Ranger mtx.gz file.\n",
    "    - Sums counts across all cells for each gene.\n",
    "    - Optionally loads gene names from features.tsv.gz.\n",
    "    \n",
    "    Args:\n",
    "    - mtx_gz_path (str): Path to matrix.mtx.gz\n",
    "    - features_tsv_gz_path (str, optional): Path to features.tsv.gz for gene names\n",
    "    \n",
    "    Returns:\n",
    "    - pd.DataFrame: DataFrame with gene indices/names and pseudobulk counts\n",
    "    \"\"\"\n",
    "    # Read the mtx.gz file\n",
    "    with gzip.open(mtx_gz_path, 'rt') as f:\n",
    "        mtx = scipy.io.mmread(f)\n",
    "    \n",
    "    # Sum across cells (axis=1) to get pseudobulk counts per gene\n",
    "    pseudobulk_counts = np.array(mtx.sum(axis=1)).flatten()\n",
    "    \n",
    "    # Create DataFrame with gene indices by default\n",
    "    pseudobulk_df = pd.DataFrame({\n",
    "        'gene_index': range(1, len(pseudobulk_counts) + 1),\n",
    "        'pseudobulk_count': pseudobulk_counts\n",
    "    })\n",
    "    \n",
    "    # If features.tsv.gz is provided, load gene names/IDs\n",
    "    if features_tsv_gz_path and os.path.exists(features_tsv_gz_path):\n",
    "        features = pd.read_csv(features_tsv_gz_path, sep='\\t', header=None, compression='gzip')\n",
    "        gene_ids = features[0].values  # First column: gene IDs\n",
    "        gene_names = features[1].values  # Second column: gene names\n",
    "        pseudobulk_df['gene_id'] = gene_ids[:len(pseudobulk_counts)]\n",
    "        pseudobulk_df['gene_name'] = gene_names[:len(pseudobulk_counts)]\n",
    "        # Reorder columns for clarity\n",
    "        pseudobulk_df = pseudobulk_df[['gene_id', 'gene_name', 'pseudobulk_count', 'gene_index']]\n",
    "    \n",
    "    return pseudobulk_df\n",
    "#Data from: https://www.ncbi.nlm.nih.gov/geo/query/acc.cgi?acc=GSM5687481\n",
    "# Example usage:\n",
    "# Assuming files are in 'outs/filtered_feature_bc_matrix/' as per Cell Ranger structure\n",
    "mtx_path = 'GSM5687482_k562_rep2_matrix.mtx.gz'\n",
    "features_path = 'GSM5687482_k562_rep2_features.tsv.gz'  # Optional\n",
    "\n",
    "pseudobulk_df = get_pseudobulk_from_mtx_gz(mtx_path, features_path)\n",
    "print(pseudobulk_df.head())  # Preview the result"
   ]
  },
  {
   "cell_type": "code",
   "execution_count": 2,
   "id": "b1f5e194-5fbb-4989-a452-d6c3b757c04b",
   "metadata": {},
   "outputs": [],
   "source": [
    "# To save to CSV:\n",
    "pseudobulk_df[['gene_name','pseudobulk_count']].to_csv('10X_pseudobulk_counts_rep2.txt', index=False,header=False, sep='\\t')"
   ]
  }
 ],
 "metadata": {
  "kernelspec": {
   "display_name": "Python 3",
   "language": "python",
   "name": "python3"
  },
  "language_info": {
   "codemirror_mode": {
    "name": "ipython",
    "version": 3
   },
   "file_extension": ".py",
   "mimetype": "text/x-python",
   "name": "python",
   "nbconvert_exporter": "python",
   "pygments_lexer": "ipython3",
   "version": "3.8.5"
  }
 },
 "nbformat": 4,
 "nbformat_minor": 5
}
